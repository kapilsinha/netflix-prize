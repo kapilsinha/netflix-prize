{
 "cells": [
  {
   "cell_type": "code",
   "execution_count": null,
   "metadata": {},
   "outputs": [],
   "source": [
    "from surprise import SVD\n",
    "from surprise.prediction_algorithms.matrix_factorization import SVD\n",
    "from surprise.reader import Reader\n",
    "from surprise.dataset import Dataset, DatasetAutoFolds\n",
    "import pandas as pd\n",
    "\n",
    "K = 20"
   ]
  },
  {
   "cell_type": "code",
   "execution_count": null,
   "metadata": {},
   "outputs": [],
   "source": [
    "# Function to write predictions to file \n",
    "def write_preds(svd, file):\n",
    "    preds = []\n",
    "    with open(file) as f:\n",
    "        for line in f:\n",
    "            line = line.split()\n",
    "            preds.append(svd.predict(line[0], line[1]))\n",
    "    # TODO: Check if txt files are okay\n",
    "    file = \"predictions.txt\"\n",
    "    file.writelines([\"%s\\n\" % item for item in preds])"
   ]
  },
  {
   "cell_type": "code",
   "execution_count": null,
   "metadata": {},
   "outputs": [],
   "source": [
    "# We'll use the famous SVD algorithm.\n",
    "algo = SVD(n_factors=K)\n",
    "\n",
    "# Build dataset from csv file\n",
    "print(\"Reading data ...\")\n",
    "data = pd.read_csv(\"mu_train.csv\")\n",
    "print(\"Convert to dataset ...\")\n",
    "reader = Reader(rating_scale=(1, 5))\n",
    "data = Dataset.load_from_df(data[[\"User Number\", \"Movie Number\", \"Rating\"]], reader)\n",
    "print(\"Building training set ...\")\n",
    "train = DatasetAutoFolds.build_full_trainset(data)\n",
    "\n",
    "print(\"Training ...\")\n",
    "\n",
    "# Fit the data\n",
    "algo.fit(train)"
   ]
  },
  {
   "cell_type": "code",
   "execution_count": null,
   "metadata": {},
   "outputs": [],
   "source": [
    "print(\"Writing predictions ...\")\n",
    "write_preds(algo, \"mu/qual.dta\")"
   ]
  }
 ],
 "metadata": {
  "kernelspec": {
   "display_name": "Python 3",
   "language": "python",
   "name": "python3"
  },
  "language_info": {
   "codemirror_mode": {
    "name": "ipython",
    "version": 3
   },
   "file_extension": ".py",
   "mimetype": "text/x-python",
   "name": "python",
   "nbconvert_exporter": "python",
   "pygments_lexer": "ipython3",
   "version": "3.5.4"
  }
 },
 "nbformat": 4,
 "nbformat_minor": 2
}
